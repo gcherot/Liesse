{
 "cells": [
  {
   "cell_type": "markdown",
   "metadata": {},
   "source": [
    "## Colab setup"
   ]
  },
  {
   "cell_type": "code",
   "execution_count": null,
   "metadata": {},
   "outputs": [],
   "source": [
    "!pip install gym > /dev/null 2>&1"
   ]
  },
  {
   "cell_type": "code",
   "execution_count": null,
   "metadata": {},
   "outputs": [],
   "source": [
    "!pip install gym pyvirtualdisplay > /dev/null 2>&1\n",
    "!apt-get install -y xvfb python-opengl ffmpeg > /dev/null 2>&1"
   ]
  },
  {
   "cell_type": "code",
   "execution_count": null,
   "metadata": {},
   "outputs": [],
   "source": [
    "!apt-get update > /dev/null 2>&1\n",
    "!apt-get install cmake > /dev/null 2>&1\n",
    "!pip install --upgrade setuptools 2>&1\n",
    "!pip install ez_setup > /dev/null 2>&1"
   ]
  },
  {
   "cell_type": "markdown",
   "metadata": {},
   "source": [
    "# Deep Q-Learning (DQN)\n",
    "\n",
    "\n",
    "In DQN, the $Q$-function is parameterized by a neural network of parameters $\\theta$. The network takes as input a state $s$ and outputs $Q(s, a, \\theta)$ for all actions $a$. \n",
    "\n",
    "The network is trained in way that is similar to Fitted Q Iteration. At each time $T$, the agent has observed the transitions $(s_t, a_t, r_t, s_t')_{t=1}^T$, which are stored in a __replay buffer__.\n",
    "\n",
    "In addition to the network with parameters $\\theta$, DQN keeps another network with the same architecture and parameters $\\tilde{\\theta}$, called __target network__. \n",
    "To update the parameters $\\theta$, we sample $N$ transitions from the __replay buffer__, we define the loss \n",
    "\n",
    "$$\n",
    "L(\\theta) = \\sum_{i=1}^N [Q(s_i, a_i, \\theta) - (r_i + \\gamma\\max_{a'}Q(s'_i,a', \\tilde{\\theta}))]^2\n",
    "$$\n",
    "\n",
    "and update \n",
    "\n",
    "$$\n",
    "\\theta \\gets \\theta + \\eta \\nabla L(\\theta).\n",
    "$$\n",
    "\n",
    "\n",
    "Every $C$ iterations, the target network is updated as $\\tilde{\\theta} \\gets \\theta$. \n",
    "\n",
    "At each time $t$, DQN updates the networks as described above, selects an action according to an $\\epsilon$-greedy policy, plays the action and stores the new data in the replay buffer."
   ]
  },
  {
   "cell_type": "code",
   "execution_count": null,
   "metadata": {},
   "outputs": [],
   "source": [
    "# Imports\n",
    "import torch\n",
    "import torch.nn as nn\n",
    "import torch.nn.functional as F\n",
    "import torch.optim as optim\n",
    "import numpy as np\n",
    "import random\n",
    "from copy import deepcopy\n",
    "\n",
    "import gym\n",
    "from gym import logger as gymlogger\n",
    "from gym.wrappers import Monitor\n",
    "gymlogger.set_level(40) #error only\n",
    "\n",
    "from pyvirtualdisplay import Display\n",
    "from IPython import display as ipythondisplay\n",
    "from IPython.display import clear_output\n",
    "from pathlib import Path\n",
    "\n",
    "import random, os.path, math, glob, csv, base64, itertools, sys\n",
    "from pprint import pprint\n",
    "\n",
    "import matplotlib\n",
    "import matplotlib.pyplot as plt\n",
    "%matplotlib inline\n",
    "import io\n",
    "from IPython.display import HTML"
   ]
  },
  {
   "cell_type": "markdown",
   "metadata": {},
   "source": [
    "## Step 1: Define the parameters"
   ]
  },
  {
   "cell_type": "code",
   "execution_count": null,
   "metadata": {},
   "outputs": [],
   "source": [
    "# Environment\n",
    "env = gym.make(\"CartPole-v0\")\n",
    "\n",
    "# Discount factor\n",
    "GAMMA = 0.99\n",
    "\n",
    "# Batch size\n",
    "BATCH_SIZE = 256\n",
    "# Capacity of the replay buffer\n",
    "BUFFER_CAPACITY = 10000\n",
    "# Update target net every ... episodes\n",
    "UPDATE_TARGET_EVERY = 20\n",
    "\n",
    "# Initial value of epsilon\n",
    "EPSILON_START = 1.0\n",
    "# Parameter to decrease epsilon\n",
    "DECREASE_EPSILON = 200\n",
    "# Minimum value of epislon\n",
    "EPSILON_MIN = 0.05\n",
    "\n",
    "# Number of training episodes\n",
    "N_EPISODES = 300\n",
    "\n",
    "# Learning rate\n",
    "LEARNING_RATE = 0.1"
   ]
  },
  {
   "cell_type": "markdown",
   "metadata": {},
   "source": [
    "## Step 2: Define the replay buffer"
   ]
  },
  {
   "cell_type": "code",
   "execution_count": null,
   "metadata": {},
   "outputs": [],
   "source": [
    "\n",
    "class ReplayBuffer:\n",
    "    def __init__(self, capacity):\n",
    "        self.capacity = capacity\n",
    "        self.memory = []\n",
    "        self.position = 0\n",
    "\n",
    "    def push(self, state, action, reward, next_state, done):\n",
    "        \"\"\"Saves a transition.\"\"\"\n",
    "        if len(self.memory) < self.capacity:\n",
    "            self.memory.append(None)\n",
    "        self.memory[self.position] = (state, action, reward, next_state, done)\n",
    "        self.position = (self.position + 1) % self.capacity\n",
    "\n",
    "    def sample(self, batch_size):\n",
    "        \"\"\"\n",
    "        Returns\n",
    "         - states\n",
    "         - actions\n",
    "         - rewards\n",
    "         - next states\n",
    "         - done\n",
    "        \"\"\"\n",
    "        samples = random.sample(self.memory, batch_size)\n",
    "        return map(np.asarray, zip(*samples))\n",
    "\n",
    "    def __len__(self):\n",
    "        return len(self.memory)"
   ]
  },
  {
   "cell_type": "markdown",
   "metadata": {},
   "source": [
    "## Step 3: Define the neural network architecture, objective and optimizer"
   ]
  },
  {
   "cell_type": "code",
   "execution_count": null,
   "metadata": {},
   "outputs": [],
   "source": [
    "class Net(nn.Module):\n",
    "    \"\"\"\n",
    "    Basic neural net.\n",
    "    \"\"\"\n",
    "    def __init__(self, obs_size, hidden_size, n_actions):\n",
    "        super(Net, self).__init__()\n",
    "        self.net = nn.Sequential(\n",
    "            nn.Linear(obs_size, hidden_size),\n",
    "            nn.ReLU(),\n",
    "            nn.Linear(hidden_size, n_actions)\n",
    "        )\n",
    "\n",
    "    def forward(self, x):\n",
    "        return self.net(x)"
   ]
  },
  {
   "cell_type": "markdown",
   "metadata": {},
   "source": [
    "## Step 4: Implement DQN"
   ]
  },
  {
   "cell_type": "code",
   "execution_count": null,
   "metadata": {},
   "outputs": [],
   "source": [
    "#\n",
    "#  Some useful functions (TO IMPLEMENT)\n",
    "#\n",
    "\n",
    "def choose_action(state, epsilon):\n",
    "    \"\"\"\n",
    "    TO BE IMPLEMENTED\n",
    "    \n",
    "    Return action according to an epsilon-greedy exploration policy\n",
    "    \"\"\"\n",
    "    pass\n",
    "\n",
    "def simulate_agent(n_sim=5):\n",
    "    \"\"\"\n",
    "    Monte Carlo evaluation of DQN agent\n",
    "    \"\"\"\n",
    "    sum_rewards = np.zeros(n_sim)\n",
    "    return sum_rewards"
   ]
  },
  {
   "cell_type": "code",
   "execution_count": null,
   "metadata": {},
   "outputs": [],
   "source": [
    "#\n",
    "# Train\n",
    "# \n",
    "\n",
    "EVAL_EVERY = 5\n",
    "REWARD_THRESHOLD = 199\n",
    "\n",
    "# initialize replay buffer\n",
    "replay_buffer = ReplayBuffer(BUFFER_CAPACITY)\n",
    "\n",
    "# create network and target network\n",
    "hidden_size = 128\n",
    "obs_size = env.observation_space.shape[0]\n",
    "n_actions = env.action_space.n\n",
    "\n",
    "q_net = Net(obs_size, hidden_size, n_actions)\n",
    "target_net = Net(obs_size, hidden_size, n_actions)\n",
    "\n",
    "# objective and optimizer\n",
    "optimizer = optim.Adam(params=q_net.parameters(), lr=LEARNING_RATE)\n",
    "\n",
    "\n",
    "# Algorithm\n",
    "state = env.reset()\n",
    "epsilon = EPSILON_START\n",
    "ep = 0\n",
    "total_time = 0\n",
    "while ep < N_EPISODES:\n",
    "    # take an action and observe outcome\n",
    "    action = choose_action(state, epsilon)\n",
    "    next_state, reward, done, _ = env.step(action)\n",
    "\n",
    "    # add data to replay buffer\n",
    "    ...\n",
    "\n",
    "    if len(replay_buffer) > BATCH_SIZE:\n",
    "        #########################\n",
    "        # UPDATE MODEL\n",
    "        #########################\n",
    "        # get batch\n",
    "        ...\n",
    "        \n",
    "        # Convert numpy nd_array to torch variables for calculation\n",
    "        states = torch.FloatTensor(states)\n",
    "        actions = torch.tensor(actions, dtype=int)\n",
    "        rewards = torch.FloatTensor(rewards)\n",
    "        next_states = torch.FloatTensor(next_states)\n",
    "        not_done = torch.tensor(1 - dones, dtype=int)\n",
    "\n",
    "        # Compute loss - TO BE IMPLEMENTED!\n",
    "        # 1) Compute current Q value, q_func takes only state and output value for every state-action pair\n",
    "        # We choose Q based on action taken. (hint use \".gather(1, CCC.view(-1,1))\")\n",
    "        Q_values = \n",
    "\n",
    "        # 2) Compute targets\n",
    "        # 2.a -> Q-function\n",
    "        # Detach variable from the current graph since we don't want gradients for next Q to propagated\n",
    "        # remember to use the flag done. If it is done, we do not want to compute the next state\n",
    "        Qtarget_values = \n",
    "\n",
    "        # 2.b -> full target\n",
    "        target_Q_values = \n",
    "        target_Q_values = target_Q_values.unsqueeze(1)\n",
    "\n",
    "        # 3) compute loss\n",
    "        loss = \n",
    "\n",
    "        # Optimize the model - UNCOMMENT!\n",
    "        optimizer.zero_grad()\n",
    "        loss.backward()\n",
    "        optimizer.step()\n",
    "\n",
    "        loss_value = loss.data.numpy()\n",
    "\n",
    "    # update state\n",
    "    state = next_state\n",
    "\n",
    "    # end episode if done\n",
    "    if done:\n",
    "        state = env.reset()\n",
    "        ep   += 1\n",
    "        if ( (ep+1)% EVAL_EVERY == 0):\n",
    "            rewards = simulate_agent()\n",
    "            print(\"episode =\", ep+1, \", reward = \", np.mean(rewards))\n",
    "            if np.mean(rewards) >= REWARD_THRESHOLD:\n",
    "                break\n",
    "\n",
    "        # update target network\n",
    "        if ep % UPDATE_TARGET_EVERY == 0:\n",
    "            target_net.load_state_dict(q_net.state_dict())\n",
    "        # decrease epsilon\n",
    "        epsilon = EPSILON_MIN + (EPSILON_START - EPSILON_MIN) * \\\n",
    "                        np.exp(-1. * ep / DECREASE_EPSILON )    \n",
    "\n",
    "    total_time += 1\n",
    "\n",
    "# re-evaluate the agent at the end\n",
    "rewards = simulate_agent(20)\n",
    "print(\"\")\n",
    "print(\"mean reward after training = \", np.mean(rewards))"
   ]
  },
  {
   "cell_type": "markdown",
   "metadata": {},
   "source": [
    "## Visualizing the agent"
   ]
  },
  {
   "cell_type": "code",
   "execution_count": null,
   "metadata": {},
   "outputs": [],
   "source": [
    "def show_video(directory):\n",
    "    html = []\n",
    "    for mp4 in Path(directory).glob(\"*.mp4\"):\n",
    "        video_b64 = base64.b64encode(mp4.read_bytes())\n",
    "        html.append('''<video alt=\"{}\" autoplay \n",
    "                      loop controls style=\"height: 400px;\">\n",
    "                      <source src=\"data:video/mp4;base64,{}\" type=\"video/mp4\" />\n",
    "                 </video>'''.format(mp4, video_b64.decode('ascii')))\n",
    "    ipythondisplay.display(ipythondisplay.HTML(data=\"<br>\".join(html)))\n",
    "    \n",
    "def make_seed(seed):\n",
    "    np.random.seed(seed=seed)\n",
    "    torch.manual_seed(seed=seed)\n",
    "  \n",
    "from pyvirtualdisplay import Display\n",
    "display = Display(visible=0, size=(1400, 900))\n",
    "display.start()"
   ]
  },
  {
   "cell_type": "code",
   "execution_count": null,
   "metadata": {},
   "outputs": [],
   "source": [
    "env = Monitor(env, \"./gym-results\", force=True, video_callable=lambda episode: True)\n",
    "for episode in range(1):\n",
    "    done = False\n",
    "    state = env.reset()\n",
    "    while not done:\n",
    "        action = env.action_space.sample() # MODIFY THIS PART TO COMPUTE THE ACTION WITH DQN\n",
    "        state, reward, done, info = env.step(action)\n",
    "env.close()\n",
    "show_video(\"./gym-results\")"
   ]
  },
  {
   "cell_type": "code",
   "execution_count": null,
   "metadata": {},
   "outputs": [],
   "source": []
  }
 ],
 "metadata": {
  "kernelspec": {
   "display_name": "Python 3",
   "language": "python",
   "name": "python3"
  },
  "language_info": {
   "codemirror_mode": {
    "name": "ipython",
    "version": 3
   },
   "file_extension": ".py",
   "mimetype": "text/x-python",
   "name": "python",
   "nbconvert_exporter": "python",
   "pygments_lexer": "ipython3",
   "version": "3.7.6"
  }
 },
 "nbformat": 4,
 "nbformat_minor": 4
}
